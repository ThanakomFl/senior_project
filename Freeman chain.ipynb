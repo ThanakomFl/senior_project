{
 "cells": [
  {
   "cell_type": "code",
   "execution_count": 2,
   "metadata": {
    "ExecuteTime": {
     "end_time": "2020-01-15T17:47:23.253979Z",
     "start_time": "2020-01-15T17:47:23.249014Z"
    }
   },
   "outputs": [],
   "source": [
    "import numpy as np # linear algebra\n",
    "import pandas as pd # data processing, CSV file I/O (e.g. pd.read_csv)\n",
    "import cv2\n",
    "from math import sqrt\n",
    "from matplotlib import pyplot as plt\n",
    "from itertools import chain\n",
    "from subprocess import check_output"
   ]
  },
  {
   "cell_type": "code",
   "execution_count": 53,
   "metadata": {
    "ExecuteTime": {
     "end_time": "2020-01-15T17:54:55.304895Z",
     "start_time": "2020-01-15T17:54:55.109731Z"
    }
   },
   "outputs": [
    {
     "data": {
      "text/plain": [
       "<matplotlib.image.AxesImage at 0x22e8d83fda0>"
      ]
     },
     "execution_count": 53,
     "metadata": {},
     "output_type": "execute_result"
    },
    {
     "data": {
      "image/png": "[encoded data removed]",
      "text/plain": [
       "<Figure size 432x288 with 1 Axes>"
      ]
     },
     "metadata": {
      "needs_background": "light"
     },
     "output_type": "display_data"
    }
   ],
   "source": [
    "image = plt.imread(\"./output/5_0.jpg\")\n",
    "plt.imshow(image, cmap='Greys')\n",
    "ret,img = cv2.threshold(image,30,255,0)\n",
    "plt.imshow(img, cmap='Greys')"
   ]
  },
  {
   "cell_type": "code",
   "execution_count": 54,
   "metadata": {
    "ExecuteTime": {
     "end_time": "2020-01-15T17:54:56.218976Z",
     "start_time": "2020-01-15T17:54:56.213402Z"
    }
   },
   "outputs": [
    {
     "name": "stdout",
     "output_type": "stream",
     "text": [
      "(0, 28) 255\n"
     ]
    }
   ],
   "source": [
    "## Discover the first point \n",
    "for i, row in enumerate(img):\n",
    "    for j, value in enumerate(row):\n",
    "        if value == 255:\n",
    "            start_point = (i, j)\n",
    "            print(start_point, value)\n",
    "            break\n",
    "    else:\n",
    "        continue\n",
    "    break"
   ]
  },
  {
   "cell_type": "code",
   "execution_count": 55,
   "metadata": {
    "ExecuteTime": {
     "end_time": "2020-01-15T17:54:56.781763Z",
     "start_time": "2020-01-15T17:54:56.768746Z"
    }
   },
   "outputs": [],
   "source": [
    "directions = [ 0,  1,  2,\n",
    "               7,      3,\n",
    "               6,  5,  4]\n",
    "dir2idx = dict(zip(directions, range(len(directions))))\n",
    "\n",
    "change_j =   [-1,  0,  1, # x or columns\n",
    "              -1,      1,\n",
    "              -1,  0,  1]\n",
    "\n",
    "change_i =   [-1, -1, -1, # y or rows\n",
    "               0,      0,\n",
    "               1,  1,  1]\n",
    "\n",
    "border = []\n",
    "chain = []\n",
    "curr_point = start_point\n",
    "for direction in directions:\n",
    "    idx = dir2idx[direction]\n",
    "    new_point = (start_point[0]+change_i[idx], start_point[1]+change_j[idx])\n",
    "    if img[new_point] != 0: # if is ROI\n",
    "        border.append(new_point)\n",
    "        chain.append(direction)\n",
    "        curr_point = new_point\n",
    "        break\n",
    "\n",
    "count = 0\n",
    "while curr_point != start_point:\n",
    "    #figure direction to start search\n",
    "    b_direction = (direction + 5) % 8 \n",
    "    dirs_1 = range(b_direction, 8)\n",
    "    dirs_2 = range(0, b_direction)\n",
    "    dirs = []\n",
    "    dirs.extend(dirs_1)\n",
    "    dirs.extend(dirs_2)\n",
    "    for direction in dirs:\n",
    "        idx = dir2idx[direction]\n",
    "        new_point = (curr_point[0]+change_i[idx], curr_point[1]+change_j[idx])\n",
    "        if image[new_point] != 0: # if is ROI\n",
    "            border.append(new_point)\n",
    "            chain.append(direction)\n",
    "            curr_point = new_point\n",
    "            break\n",
    "    if count == 1000: break\n",
    "    count += 1"
   ]
  },
  {
   "cell_type": "code",
   "execution_count": 56,
   "metadata": {
    "ExecuteTime": {
     "end_time": "2020-01-15T17:54:57.365975Z",
     "start_time": "2020-01-15T17:54:57.360991Z"
    }
   },
   "outputs": [
    {
     "name": "stdout",
     "output_type": "stream",
     "text": [
      "4\n",
      "[4, 1, 6, 3, 0]\n"
     ]
    }
   ],
   "source": [
    "print(count)\n",
    "print(chain)"
   ]
  },
  {
   "cell_type": "code",
   "execution_count": 57,
   "metadata": {
    "ExecuteTime": {
     "end_time": "2020-01-15T17:54:58.066824Z",
     "start_time": "2020-01-15T17:54:57.867198Z"
    },
    "scrolled": true
   },
   "outputs": [
    {
     "data": {
      "text/plain": [
       "[<matplotlib.lines.Line2D at 0x22e8d9591d0>]"
      ]
     },
     "execution_count": 57,
     "metadata": {},
     "output_type": "execute_result"
    },
    {
     "data": {
      "image/png": "[encoded data removed]",
      "text/plain": [
       "<Figure size 432x288 with 1 Axes>"
      ]
     },
     "metadata": {
      "needs_background": "light"
     },
     "output_type": "display_data"
    }
   ],
   "source": [
    "plt.imshow(img, cmap='Greys')\n",
    "plt.plot([i[1] for i in border], [i[0] for i in border])"
   ]
  }
 ],
 "metadata": {
  "kernelspec": {
   "display_name": "Python 3",
   "language": "python",
   "name": "python3"
  },
  "language_info": {
   "codemirror_mode": {
    "name": "ipython",
    "version": 3
   },
   "file_extension": ".py",
   "mimetype": "text/x-python",
   "name": "python",
   "nbconvert_exporter": "python",
   "pygments_lexer": "ipython3",
   "version": "3.7.3"
  },
  "varInspector": {
   "cols": {
    "lenName": 16,
    "lenType": 16,
    "lenVar": 40
   },
   "kernels_config": {
    "python": {
     "delete_cmd_postfix": "",
     "delete_cmd_prefix": "del ",
     "library": "var_list.py",
     "varRefreshCmd": "print(var_dic_list())"
    },
    "r": {
     "delete_cmd_postfix": ") ",
     "delete_cmd_prefix": "rm(",
     "library": "var_list.r",
     "varRefreshCmd": "cat(var_dic_list()) "
    }
   },
   "types_to_exclude": [
    "module",
    "function",
    "builtin_function_or_method",
    "instance",
    "_Feature"
   ],
   "window_display": false
  }
 },
 "nbformat": 4,
 "nbformat_minor": 2
}
