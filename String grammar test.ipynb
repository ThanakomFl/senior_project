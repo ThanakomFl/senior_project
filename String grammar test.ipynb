{
 "cells": [
  {
   "cell_type": "code",
   "execution_count": null,
   "metadata": {},
   "outputs": [],
   "source": [
    "import cv2\n",
    "import matplotlib.pyplot as plt\n",
    "import os\n",
    "import imutils\n",
    "import numpy as np\n",
    "from skimage.feature import hog\n",
    "import pdb\n",
    "import pickle"
   ]
  },
  {
   "cell_type": "code",
   "execution_count": null,
   "metadata": {},
   "outputs": [],
   "source": [
    "filename = 'knn_k_25_mouse_classification.sav'\n",
    "knn = pickle.load(open(filename, 'rb'))\n",
    "all_datalist = os.listdir('./dataset/have_2/')\n",
    "mouth_cascade = cv2.CascadeClassifier('./src/mouth.xml')\n",
    "fix_size_w = 150\n",
    "fix_size_h = 75\n",
    "dim = (fix_size_w, fix_size_h)\n",
    "avg_f_ii = np.load('avg_f.npy')"
   ]
  },
  {
   "cell_type": "code",
   "execution_count": null,
   "metadata": {},
   "outputs": [],
   "source": [
    "ds_factor = 0.4\n",
    "true_label_test = []\n",
    "stgm_test = []\n",
    "for idx in range(len(all_datalist)):\n",
    "    get_data = os.listdir('./dataset/have_2/'+all_datalist[idx]+'/test')\n",
    "    true_name =   os.listdir('./dataset/have_2/'+all_datalist[idx])[2].split('__')[1].split('.')[0]\n",
    "    for i in range(len(get_data)):\n",
    "        cap = cv2.VideoCapture('./dataset/have_2/'+all_datalist[idx]+'/test/'+get_data[i])\n",
    "        haveFrame,im = cap.read()\n",
    "        j = 0\n",
    "        avg_f_i = np.zeros((fix_size_h,fix_size_w))  \n",
    "        stgm_i = []\n",
    "        true_label_i = []\n",
    "        fame_count = 15\n",
    "        unfame = True\n",
    "        while(cap.isOpened()):\n",
    "            haveFrame,im = cap.read()\n",
    "            if (not haveFrame) or (cv2.waitKey(1) & 0xFF == ord('q') or j > 10):\n",
    "                break\n",
    "            if(unfame):\n",
    "                print('join function')\n",
    "                im = np.rot90(im)\n",
    "                im = np.flipud(im)\n",
    "                im = cv2.resize(im, None, fx=ds_factor, fy=ds_factor, interpolation=cv2.INTER_AREA)\n",
    "                gray = cv2.cvtColor(im, cv2.COLOR_BGR2GRAY)\n",
    "                mouth_rects = mouth_cascade.detectMultiScale(gray, 1.7, 11)\n",
    "                for (x,y,w,h) in mouth_rects:\n",
    "                    y = int(y - 0.15*h)\n",
    "                    im = im[y+10:y+10+w,x:x+h]\n",
    "                    if(h > 100 and y > 400):\n",
    "                        im = im[y:y+w,x:x+h]\n",
    "                        break\n",
    "#                 print(len(im))\n",
    "                if(50 > len(im) or len(im) > 200):\n",
    "                    continue\n",
    "                im = cv2.resize(im, dim, interpolation = cv2.INTER_AREA)\n",
    "                im = cv2.cvtColor(im, cv2.COLOR_BGR2GRAY)    \n",
    "                Dif_f = im-avg_f_ii\n",
    "                Blur_f = cv2.GaussianBlur(im,(3,3),cv2.BORDER_DEFAULT,1)\n",
    "                Fi_f = Dif_f / Blur_f\n",
    "                fd, hog_image = hog(Fi_f, orientations=16, pixels_per_cell=(2,2),\n",
    "                                cells_per_block=(2,2),visualize=True)\n",
    "#                 cv2.imshow('im_dif', Dif_f)\n",
    "#                 cv2.moveWindow('im_dif', 800, 50)\n",
    "#                 cv2.imshow('im_blur', Blur_f)\n",
    "#                 cv2.moveWindow('im_blur', 1150,50)\n",
    "#                 cv2.imshow('Fi_f', Fi_f)\n",
    "#                 cv2.moveWindow('Fi_f', 450,50)\n",
    "#                 cv2.imshow('Hog_img', hog_image)\n",
    "#                 cv2.moveWindow('Hog_img', 100,50)\n",
    "# #                 cv2.imwrite('./output/'+str(idx)+'_'+str(i)+\"_\"+str(j)+\".jpg\",Blur_f*255)\n",
    "#                 print(\"pp : \"+str(true_name)+\" Video : \"+str(i)+\" Frame : \"+str(j))\n",
    "                stgm_test.append(fd)\n",
    "                true_label_test.append(true_name)\n",
    "                j = j+1\n",
    "                unfame = False\n",
    "                fame_count = 15\n",
    "            else:\n",
    "                print('|',end=\"\")\n",
    "                fame_count = fame_count - 1\n",
    "                if(fame_count == 0):\n",
    "                    unfame = True\n",
    "                    print(\"\")\n",
    "        print('Get hog for 1 video')\n",
    "        cap.release()\n",
    "        cv2.destroyAllWindows()"
   ]
  },
  {
   "cell_type": "code",
   "execution_count": null,
   "metadata": {},
   "outputs": [],
   "source": [
    "y_pred = knn.predict(stgm_test)\n",
    "accuracy_score(true_label_test, y_pred)"
   ]
  },
  {
   "cell_type": "code",
   "execution_count": null,
   "metadata": {},
   "outputs": [],
   "source": [
    "from sklearn.metrics import confusion_matrix\n",
    "def plot_confusion_matrix(y_true, y_pred,\n",
    "                          normalize=False,\n",
    "                          title=None,\n",
    "                          cmap=plt.cm.Blues):\n",
    "    \"\"\"\n",
    "    This function prints and plots the confusion matrix.\n",
    "    Normalization can be applied by setting `normalize=True`.\n",
    "    \"\"\"\n",
    "    if not title:\n",
    "        if normalize:\n",
    "            title = 'Normalized confusion matrix'\n",
    "        else:\n",
    "            title = 'Confusion matrix, without normalization'\n",
    "\n",
    "    # Compute confusion matrix\n",
    "    cm = confusion_matrix(y_true, y_pred)\n",
    "    # Only use the labels that appear in the data\n",
    "    if normalize:\n",
    "        cm = cm.astype('float') / cm.sum(axis=1)[:, np.newaxis]\n",
    "        print(\"Normalized confusion matrix\")\n",
    "    else:\n",
    "        print('Confusion matrix, without normalization')\n",
    "\n",
    "    print(cm)\n",
    "\n",
    "    fig, ax = plt.subplots()\n",
    "    im = ax.imshow(cm, interpolation='nearest', cmap=cmap)\n",
    "    ax.figure.colorbar(im, ax=ax)\n",
    "    # We want to show all ticks...\n",
    "    ax.set(xticks=np.arange(cm.shape[1]),\n",
    "           yticks=np.arange(cm.shape[0]),\n",
    "           title=title,\n",
    "           ylabel='True label',\n",
    "           xlabel='Predicted label')\n",
    "\n",
    "    # Rotate the tick labels and set their alignment.\n",
    "    plt.setp(ax.get_xticklabels(), rotation=45, ha=\"right\",\n",
    "             rotation_mode=\"anchor\")\n",
    "\n",
    "    # Loop over data dimensions and create text annotations.\n",
    "    fmt = '.2f' if normalize else 'd'\n",
    "    thresh = cm.max() / 2.\n",
    "    for i in range(cm.shape[0]):\n",
    "        for j in range(cm.shape[1]):\n",
    "            ax.text(j, i, format(cm[i, j], fmt),\n",
    "                    ha=\"center\", va=\"center\",\n",
    "                    color=\"white\" if cm[i, j] > thresh else \"black\")\n",
    "    fig.tight_layout()\n",
    "    return ax"
   ]
  },
  {
   "cell_type": "code",
   "execution_count": null,
   "metadata": {},
   "outputs": [],
   "source": [
    "plot_confusion_matrix(true_label_test, y_pred,\n",
    "                      title='Face Classificaion ')"
   ]
  }
 ],
 "metadata": {
  "kernelspec": {
   "display_name": "Python 3",
   "language": "python",
   "name": "python3"
  },
  "language_info": {
   "codemirror_mode": {
    "name": "ipython",
    "version": 3
   },
   "file_extension": ".py",
   "mimetype": "text/x-python",
   "name": "python",
   "nbconvert_exporter": "python",
   "pygments_lexer": "ipython3",
   "version": "3.7.3"
  },
  "varInspector": {
   "cols": {
    "lenName": 16,
    "lenType": 16,
    "lenVar": 40
   },
   "kernels_config": {
    "python": {
     "delete_cmd_postfix": "",
     "delete_cmd_prefix": "del ",
     "library": "var_list.py",
     "varRefreshCmd": "print(var_dic_list())"
    },
    "r": {
     "delete_cmd_postfix": ") ",
     "delete_cmd_prefix": "rm(",
     "library": "var_list.r",
     "varRefreshCmd": "cat(var_dic_list()) "
    }
   },
   "types_to_exclude": [
    "module",
    "function",
    "builtin_function_or_method",
    "instance",
    "_Feature"
   ],
   "window_display": false
  }
 },
 "nbformat": 4,
 "nbformat_minor": 2
}
