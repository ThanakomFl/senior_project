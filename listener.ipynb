{
 "cells": [
  {
   "cell_type": "code",
   "execution_count": 1,
   "metadata": {
    "ExecuteTime": {
     "end_time": "2020-02-06T19:27:10.990703Z",
     "start_time": "2020-02-06T19:27:10.279581Z"
    }
   },
   "outputs": [],
   "source": [
    "import firebase_admin\n",
    "from firebase_admin import credentials\n",
    "from firebase_admin import db\n",
    "\n",
    "\n",
    "cred = credentials.Certificate(\"src/smart-key-dev-1-firebase-adminsdk-vjljs-4972fa2610.json\")\n",
    "firebase_admin.initialize_app(cred,{\n",
    "    'databaseURL': \"https://smart-key-dev-1.firebaseio.com\"\n",
    "})\n",
    "\n",
    "def ignore_first_call(fn):\n",
    "    called = False\n",
    "\n",
    "    def wrapper(*args, **kwargs):\n",
    "        nonlocal called\n",
    "        if called:\n",
    "            return fn(*args, **kwargs)\n",
    "        else:\n",
    "            called = True\n",
    "            return None\n",
    "\n",
    "    return wrapper\n",
    "\n",
    "\n",
    "@ignore_first_call\n",
    "def listener(event):\n",
    "    print(event.event_type)  # can be 'put' or 'patch'\n",
    "    print(event.path)  # relative to the reference, it seems\n",
    "    print(event.data)  # new data at /reference/event.path. None if deleted\n",
    "\n",
    "    node = str(event.path).split('/')[-2] #you can slice the path according to your requirement\n",
    "    property = str(event.path).split('/')[-1] \n",
    "    value = event.data\n",
    "    if (node=='sala'):\n",
    "        #do something\n",
    "    elif (node=='ventilacion'):\n",
    "        #do something\n",
    "    else:\n",
    "        #do something else\n"
   ]
  },
  {
   "cell_type": "code",
   "execution_count": 5,
   "metadata": {
    "ExecuteTime": {
     "end_time": "2020-02-06T19:28:12.081343Z",
     "start_time": "2020-02-06T19:28:11.061518Z"
    }
   },
   "outputs": [
    {
     "data": {
      "text/plain": [
       "<firebase_admin.db.ListenerRegistration at 0x193aabe17f0>"
      ]
     },
     "execution_count": 5,
     "metadata": {},
     "output_type": "execute_result"
    },
    {
     "name": "stdout",
     "output_type": "stream",
     "text": [
      "put\n",
      "/\n",
      "{'0': {'time_stamp': '00:00:00'}, '-M-Qr4330_ciV2y-Vj_e': {'time_stamp': '01:56:25', 'url': 'https://firebasestorage.googleapis.com/v0/b/smart-key-dev-1.appspot.com/o/current_authen?alt=media'}, '-M-Qr72jneDxhja-A-WH': {'time_stamp': '01:56:38', 'url': 'https://firebasestorage.googleapis.com/v0/b/smart-key-dev-1.appspot.com/o/current_authen?alt=media'}, '-M-QrGv9inLbXyI5Kswg': {'time_stamp': '01:57:19', 'url': 'https://firebasestorage.googleapis.com/v0/b/smart-key-dev-1.appspot.com/o/current_authen?alt=media'}, '-M-QrVM048R6KmexW0WD': {'time_stamp': '01:58:18', 'url': 'https://firebasestorage.googleapis.com/v0/b/smart-key-dev-1.appspot.com/o/current_authen?alt=media'}, '-M-Qs3k7qj_qJjGfdcxA': {'time_stamp': '02:00:46', 'url': 'https://firebasestorage.googleapis.com/v0/b/smart-key-dev-1.appspot.com/o/current_authen?alt=media'}, '-M-QtF8q-4wB66CKB-18': {'time_stamp': '02:05:55', 'url': 'https://firebasestorage.googleapis.com/v0/b/smart-key-dev-1.appspot.com/o/current_authen?alt=media'}, '-M-QtgrOoKcUhNzA-HPN': {'time_stamp': '02:07:53', 'url': 'https://firebasestorage.googleapis.com/v0/b/smart-key-dev-1.appspot.com/o/current_authen?alt=media'}}\n"
     ]
    }
   ],
   "source": [
    "db.reference('/authen').listen(listener)"
   ]
  }
 ],
 "metadata": {
  "kernelspec": {
   "display_name": "Python 3",
   "language": "python",
   "name": "python3"
  },
  "language_info": {
   "codemirror_mode": {
    "name": "ipython",
    "version": 3
   },
   "file_extension": ".py",
   "mimetype": "text/x-python",
   "name": "python",
   "nbconvert_exporter": "python",
   "pygments_lexer": "ipython3",
   "version": "3.7.3"
  },
  "varInspector": {
   "cols": {
    "lenName": 16,
    "lenType": 16,
    "lenVar": 40
   },
   "kernels_config": {
    "python": {
     "delete_cmd_postfix": "",
     "delete_cmd_prefix": "del ",
     "library": "var_list.py",
     "varRefreshCmd": "print(var_dic_list())"
    },
    "r": {
     "delete_cmd_postfix": ") ",
     "delete_cmd_prefix": "rm(",
     "library": "var_list.r",
     "varRefreshCmd": "cat(var_dic_list()) "
    }
   },
   "types_to_exclude": [
    "module",
    "function",
    "builtin_function_or_method",
    "instance",
    "_Feature"
   ],
   "window_display": false
  }
 },
 "nbformat": 4,
 "nbformat_minor": 2
}
