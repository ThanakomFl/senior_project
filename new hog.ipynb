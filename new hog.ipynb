{
 "cells": [
  {
   "cell_type": "code",
   "execution_count": 8,
   "metadata": {
    "ExecuteTime": {
     "end_time": "2020-03-11T18:57:29.457952Z",
     "start_time": "2020-03-11T18:57:29.433553Z"
    }
   },
   "outputs": [],
   "source": [
    "import numpy as np\n",
    "import cv2"
   ]
  },
  {
   "cell_type": "code",
   "execution_count": 148,
   "metadata": {
    "ExecuteTime": {
     "end_time": "2020-03-11T19:52:21.376015Z",
     "start_time": "2020-03-11T19:52:21.365562Z"
    }
   },
   "outputs": [],
   "source": [
    "Fi_f = cv2.imread('./output/Fi_f/Fi_f_0_0.jpg', cv2.IMREAD_GRAYSCALE)"
   ]
  },
  {
   "cell_type": "code",
   "execution_count": 149,
   "metadata": {
    "ExecuteTime": {
     "end_time": "2020-03-11T19:52:22.190053Z",
     "start_time": "2020-03-11T19:52:22.184007Z"
    }
   },
   "outputs": [
    {
     "data": {
      "text/plain": [
       "array([[ 0,  0,  0, ..., 35, 34, 34],\n",
       "       [ 0,  0,  0, ..., 36, 36, 37],\n",
       "       [ 0,  0,  0, ..., 37, 35, 33],\n",
       "       ...,\n",
       "       [ 0,  0,  0, ..., 23, 27, 33],\n",
       "       [ 0,  0,  0, ..., 33, 34, 37],\n",
       "       [ 0,  0,  0, ..., 41, 38, 37]], dtype=uint8)"
      ]
     },
     "execution_count": 149,
     "metadata": {},
     "output_type": "execute_result"
    }
   ],
   "source": [
    "Fi_f"
   ]
  },
  {
   "cell_type": "code",
   "execution_count": 11,
   "metadata": {
    "ExecuteTime": {
     "end_time": "2020-03-11T18:58:00.571648Z",
     "start_time": "2020-03-11T18:58:00.564620Z"
    }
   },
   "outputs": [],
   "source": [
    "def bin_orinted(orien):\n",
    "    if(0<=orien<45):\n",
    "        return 1\n",
    "    elif(45<=orien<90):\n",
    "        return 2\n",
    "    elif(90<=orien<135):\n",
    "        return 3\n",
    "    elif(135<=orien<180):\n",
    "        return 4\n",
    "    elif(180<=orien<225):\n",
    "        return 5\n",
    "    elif(225<=orien<270):\n",
    "        return 6\n",
    "    elif(270<=orien<315):\n",
    "        return 7\n",
    "    else:\n",
    "        return 8 "
   ]
  },
  {
   "cell_type": "code",
   "execution_count": 134,
   "metadata": {
    "ExecuteTime": {
     "end_time": "2020-03-11T19:47:22.026914Z",
     "start_time": "2020-03-11T19:47:21.840329Z"
    }
   },
   "outputs": [
    {
     "name": "stderr",
     "output_type": "stream",
     "text": [
      "c:\\users\\thanakom_hatsadeang\\appdata\\local\\programs\\python\\python37\\lib\\site-packages\\ipykernel_launcher.py:4: RuntimeWarning: overflow encountered in ubyte_scalars\n",
      "  after removing the cwd from sys.path.\n",
      "c:\\users\\thanakom_hatsadeang\\appdata\\local\\programs\\python\\python37\\lib\\site-packages\\ipykernel_launcher.py:5: RuntimeWarning: overflow encountered in ubyte_scalars\n",
      "  \"\"\"\n",
      "c:\\users\\thanakom_hatsadeang\\appdata\\local\\programs\\python\\python37\\lib\\site-packages\\ipykernel_launcher.py:10: RuntimeWarning: divide by zero encountered in ubyte_scalars\n",
      "  # Remove the CWD from sys.path while we load stuff.\n"
     ]
    }
   ],
   "source": [
    "theta = []\n",
    "for x in range(len(Fi_f)-1):\n",
    "    for y in range(len(Fi_f[0])-1):\n",
    "        top = (Fi_f[x][y+1]-Fi_f[x][y-1])\n",
    "        down = (Fi_f[x+1][y]-Fi_f[x-1][y])\n",
    "#         print(str(top)+\" / \"+str(down)+\" = \"+str(top/down))\n",
    "        if(top == 0 and down == 0):\n",
    "            cal = 0\n",
    "        else:\n",
    "            cal = top/down\n",
    "        orientatin = 360-(np.rad2deg(np.arctan(cal))*4)\n",
    "#         print(orientatin)\n",
    "        theta.append(bin_orinted(orientatin))"
   ]
  }
 ],
 "metadata": {
  "kernelspec": {
   "display_name": "Python 3",
   "language": "python",
   "name": "python3"
  },
  "language_info": {
   "codemirror_mode": {
    "name": "ipython",
    "version": 3
   },
   "file_extension": ".py",
   "mimetype": "text/x-python",
   "name": "python",
   "nbconvert_exporter": "python",
   "pygments_lexer": "ipython3",
   "version": "3.7.3"
  },
  "varInspector": {
   "cols": {
    "lenName": 16,
    "lenType": 16,
    "lenVar": 40
   },
   "kernels_config": {
    "python": {
     "delete_cmd_postfix": "",
     "delete_cmd_prefix": "del ",
     "library": "var_list.py",
     "varRefreshCmd": "print(var_dic_list())"
    },
    "r": {
     "delete_cmd_postfix": ") ",
     "delete_cmd_prefix": "rm(",
     "library": "var_list.r",
     "varRefreshCmd": "cat(var_dic_list()) "
    }
   },
   "types_to_exclude": [
    "module",
    "function",
    "builtin_function_or_method",
    "instance",
    "_Feature"
   ],
   "window_display": false
  }
 },
 "nbformat": 4,
 "nbformat_minor": 2
}
